{
  "nbformat": 4,
  "nbformat_minor": 0,
  "metadata": {
    "colab": {
      "name": "module1.ipynb",
      "provenance": [],
      "authorship_tag": "ABX9TyO6Qz/d8uh3bJMW7pfaNadX",
      "include_colab_link": true
    },
    "kernelspec": {
      "name": "python3",
      "display_name": "Python 3"
    },
    "language_info": {
      "name": "python"
    }
  },
  "cells": [
    {
      "cell_type": "markdown",
      "metadata": {
        "id": "view-in-github",
        "colab_type": "text"
      },
      "source": [
        "<a href=\"https://colab.research.google.com/github/SIVANIPATNAIK/python-new/blob/module-1/module1.ipynb\" target=\"_parent\"><img src=\"https://colab.research.google.com/assets/colab-badge.svg\" alt=\"Open In Colab\"/></a>"
      ]
    },
    {
      "cell_type": "code",
      "execution_count": 1,
      "metadata": {
        "colab": {
          "base_uri": "https://localhost:8080/"
        },
        "id": "ywBeJ0qPac5S",
        "outputId": "2dac447e-beb3-40c1-b1e9-3a33c38af9b5"
      },
      "outputs": [
        {
          "output_type": "stream",
          "name": "stdout",
          "text": [
            "enter any number:9\n",
            "9\n"
          ]
        }
      ],
      "source": [
        "# user input\n",
        "user_input=int(input(\"enter any number:\"))\n",
        "print(user_input)\n"
      ]
    },
    {
      "cell_type": "code",
      "source": [
        "#Take 2 numbers as user input and add, multiply, divide, subtract, remainder and print\n",
        "#the output (Same operations on floating point input as well)\n",
        "a=float(input(\"enter a number\"))\n",
        "b=float(input(\"enter a number\"))\n",
        "c=a+b\n",
        "d=a-b\n",
        "e=a*b\n",
        "f=a/b\n",
        "g=a%b\n",
        "print(\"sum= \",c)\n",
        "print(\"subtract= \",d)\n",
        "print(\"product= \",e)\n",
        "print(\"division= \",f)\n",
        "print(\"remainder= \",g)\n"
      ],
      "metadata": {
        "colab": {
          "base_uri": "https://localhost:8080/"
        },
        "id": "mqEy_e34bhOX",
        "outputId": "03f427d4-4711-4411-9b6b-74f4966b5a5e"
      },
      "execution_count": 2,
      "outputs": [
        {
          "output_type": "stream",
          "name": "stdout",
          "text": [
            "enter a number6\n",
            "enter a number7\n",
            "sum=  13.0\n",
            "subtract=  -1.0\n",
            "product=  42.0\n",
            "division=  0.8571428571428571\n",
            "remainder=  6.0\n"
          ]
        }
      ]
    },
    {
      "cell_type": "code",
      "source": [
        "age= 18\n",
        "name= \"sivani\"\n",
        "string=\"i am {} and im {} years old \"\n",
        "print(string.format(name,age))"
      ],
      "metadata": {
        "colab": {
          "base_uri": "https://localhost:8080/"
        },
        "id": "2ToTXsfQbsoY",
        "outputId": "92f328be-b2c9-4bc3-c9d4-acbcfbfec947"
      },
      "execution_count": 4,
      "outputs": [
        {
          "output_type": "stream",
          "name": "stdout",
          "text": [
            "i am sivani and im 18 years old \n"
          ]
        }
      ]
    },
    {
      "cell_type": "code",
      "source": [
        "#Building a mathematical calculator that can perform operations according to user input.Use decision making statement.\n",
        "operation=(input('enter any operation'))\n",
        "if operation=='+':\n",
        "   a=int(input('enter any number'))\n",
        "   b=int(input('enter any number'))\n",
        "   print(a+b)\n",
        "elif operation=='-':\n",
        "    a=int(input('enter any number'))\n",
        "    b=int(input('enter any number'))\n",
        "    print(a-b)\n",
        "\n",
        "elif operation=='*':\n",
        "    a=int(input('enter any number'))\n",
        "    b=int(input('enter any number'))\n",
        "    print(a*b)\n",
        "elif operation=='-':\n",
        "    a=int(input('enter any number'))\n",
        "    b=int(input('enter any number'))\n",
        "    print(a/b)\n",
        "else:\n",
        "    print('wrong choice')"
      ],
      "metadata": {
        "colab": {
          "base_uri": "https://localhost:8080/"
        },
        "id": "dc6PegqMb4qN",
        "outputId": "09031d71-c599-4c86-87c3-6ed91d737695"
      },
      "execution_count": 5,
      "outputs": [
        {
          "output_type": "stream",
          "name": "stdout",
          "text": [
            "enter any operation=\n",
            "wrong choice\n"
          ]
        }
      ]
    },
    {
      "cell_type": "code",
      "source": [
        "#Usage of mathematical functions in python like math.ceil, floor, fabs, fmod, trunc,\n",
        "#pow, sqrt etc\n",
        "import math\n",
        "a=float(input(\"enter a number \"))\n",
        "print(math.ceil(a))\n",
        "print(math.floor(a))\n",
        "print(math.fabs(a))\n",
        "print(math.trunc(a))\n",
        "print(math.sqrt(a))\n",
        "b=float(input(\"enter a number\"))\n",
        "c=float(input(\"enter a number \"))\n",
        "print(math.fmod(b,c))\n",
        "print(math.pow(b,c))"
      ],
      "metadata": {
        "colab": {
          "base_uri": "https://localhost:8080/"
        },
        "id": "ZTeRZVCPcNJv",
        "outputId": "d2eead24-51eb-426f-bdc0-b98a8d77f9dc"
      },
      "execution_count": 12,
      "outputs": [
        {
          "output_type": "stream",
          "name": "stdout",
          "text": [
            "enter a number 56\n",
            "56\n",
            "56\n",
            "56.0\n",
            "56\n",
            "7.483314773547883\n",
            "enter a number89\n",
            "enter a number 55\n",
            "34.0\n",
            "1.6460778290817443e+107\n"
          ]
        }
      ]
    },
    {
      "cell_type": "code",
      "source": [
        "a=10\n",
        "print(type(a))\n",
        "print(a)\n",
        "#before conversion\n",
        "b=str(a)\n",
        "print(type(b))\n",
        "print(b)\n",
        "#after conversion\n",
        "c=float(a)\n",
        "print(c)\n",
        "print(type(c))\n",
        "d=bool(a)\n",
        "print(d)\n",
        "print(type(d))\n",
        "e=complex(a)\n",
        "print(e)\n",
        "print(type(e))"
      ],
      "metadata": {
        "colab": {
          "base_uri": "https://localhost:8080/"
        },
        "id": "jGLifR95dYNp",
        "outputId": "982c6c82-da42-4dbf-8993-96854aecb029"
      },
      "execution_count": 13,
      "outputs": [
        {
          "output_type": "stream",
          "name": "stdout",
          "text": [
            "<class 'int'>\n",
            "10\n",
            "<class 'str'>\n",
            "10\n",
            "10.0\n",
            "<class 'float'>\n",
            "True\n",
            "<class 'bool'>\n",
            "(10+0j)\n",
            "<class 'complex'>\n"
          ]
        }
      ]
    },
    {
      "cell_type": "code",
      "source": [
        "a=10.5\n",
        "print(type(a))\n",
        "print(a)\n",
        "b=int(a)\n",
        "print(type(b))\n",
        "print(b)\n",
        "c=str(a)\n",
        "print(type(c))\n",
        "print(c)\n",
        "d=bool(a)\n",
        "print(type(d))\n",
        "print(d)\n",
        "e=complex(a)\n",
        "print(type(e))\n",
        "print(e) "
      ],
      "metadata": {
        "colab": {
          "base_uri": "https://localhost:8080/"
        },
        "id": "PO5PF_JxdkHf",
        "outputId": "4d382b2f-db3e-47b1-989f-5d9d63a4f163"
      },
      "execution_count": 14,
      "outputs": [
        {
          "output_type": "stream",
          "name": "stdout",
          "text": [
            "<class 'float'>\n",
            "10.5\n",
            "<class 'int'>\n",
            "10\n",
            "<class 'str'>\n",
            "10.5\n",
            "<class 'bool'>\n",
            "True\n",
            "<class 'complex'>\n",
            "(10.5+0j)\n"
          ]
        }
      ]
    },
    {
      "cell_type": "code",
      "source": [
        "a=int(input(\"enter the 1st number\"))\n",
        "b=int(input(\"enter the 2nd number\"))\n",
        "c=int(input(\"enter the 3rd number\"))\n",
        "if(a>b)and(a>c):\n",
        "  print(\"a is largest\")\n",
        "elif(b>a)and(b>c):\n",
        "  print(\"b is largest\")\n",
        "else:\n",
        "  print(\"c is largest\")"
      ],
      "metadata": {
        "colab": {
          "base_uri": "https://localhost:8080/"
        },
        "id": "YvlLFvs2ePr3",
        "outputId": "d458e86c-510f-4f33-8afa-b646350bd53d"
      },
      "execution_count": 15,
      "outputs": [
        {
          "output_type": "stream",
          "name": "stdout",
          "text": [
            "enter the 1st number60\n",
            "enter the 2nd number77\n",
            "enter the 3rd number80\n",
            "c is largest\n"
          ]
        }
      ]
    },
    {
      "cell_type": "code",
      "source": [
        "a=18\n",
        "b=20\n",
        "c=18\n",
        "if(a==b==c):\n",
        "  print(\"equilateral\")\n",
        "elif(a==b)or(b==c)or(c==a):\n",
        "  print(\"isocelese\")\n",
        "else:\n",
        "  print(\"scalene\")"
      ],
      "metadata": {
        "colab": {
          "base_uri": "https://localhost:8080/"
        },
        "id": "8sH3bNv7es-J",
        "outputId": "f18a3eff-6cec-473e-e920-72b513ef5bbf"
      },
      "execution_count": 16,
      "outputs": [
        {
          "output_type": "stream",
          "name": "stdout",
          "text": [
            "isocelese\n"
          ]
        }
      ]
    },
    {
      "cell_type": "code",
      "source": [
        "a=\"I went to RRR movie\"\n",
        "print(a[2:5],a[4:11])"
      ],
      "metadata": {
        "colab": {
          "base_uri": "https://localhost:8080/"
        },
        "id": "PnLU5AIpfGXe",
        "outputId": "fbba8131-68a2-406a-bc38-290c9f8830b8"
      },
      "execution_count": 17,
      "outputs": [
        {
          "output_type": "stream",
          "name": "stdout",
          "text": [
            "wen nt to R\n"
          ]
        }
      ]
    },
    {
      "cell_type": "code",
      "source": [
        "a='''hello this is a python class\n",
        "     by yashwanth sir.'''\n",
        "print(\"class\"in a)\n",
        "print(\"class\"in a,\"sir\"in a)\n",
        "print(\"class\"in a,\"lk\"in a)"
      ],
      "metadata": {
        "colab": {
          "base_uri": "https://localhost:8080/"
        },
        "id": "qloYsNs8fIbY",
        "outputId": "7b351583-c948-45b4-c326-c88809a901ce"
      },
      "execution_count": 18,
      "outputs": [
        {
          "output_type": "stream",
          "name": "stdout",
          "text": [
            "True\n",
            "True True\n",
            "True False\n"
          ]
        }
      ]
    },
    {
      "cell_type": "code",
      "source": [
        "a='''hello this is a python class\n",
        "     by yashwanth sir.'''\n",
        "print(\"class\"not in a)"
      ],
      "metadata": {
        "colab": {
          "base_uri": "https://localhost:8080/"
        },
        "id": "7-jIc6e6fU8e",
        "outputId": "d2854234-f3be-485f-80a7-b87df960898d"
      },
      "execution_count": 19,
      "outputs": [
        {
          "output_type": "stream",
          "name": "stdout",
          "text": [
            "False\n"
          ]
        }
      ]
    },
    {
      "cell_type": "code",
      "source": [
        "# palindrome\n",
        "a=int(input(\"enter a number: \"))\n",
        "temp=a\n",
        "reverse=0\n",
        "while(a!=0):\n",
        "  r=a%10\n",
        "  reverse=reverse*10+r\n",
        "  a=a//10\n",
        "print(reverse)\n",
        "if(reverse==temp):\n",
        "  print(\"it is a palindrome\")\n",
        "else:\n",
        "  print(\"it is not a palindome\")"
      ],
      "metadata": {
        "colab": {
          "base_uri": "https://localhost:8080/"
        },
        "id": "BwB-J10bf0xS",
        "outputId": "cceec6f7-cf9d-45c1-a6f6-14fbf1bafe91"
      },
      "execution_count": 20,
      "outputs": [
        {
          "output_type": "stream",
          "name": "stdout",
          "text": [
            "enter a number: 89\n",
            "98\n",
            "it is not a palindome\n"
          ]
        }
      ]
    },
    {
      "cell_type": "code",
      "source": [
        "#Compute GCD of two given \n",
        "a=int(input(\"enter a number\"))\n",
        "b=int(input(\"enter a number\"))\n",
        "k=a if a<b else b\n",
        "while True:\n",
        "    if a%k==0 and b%k==0:\n",
        "     break\n",
        "    k -=1\n",
        "print(k)"
      ],
      "metadata": {
        "colab": {
          "base_uri": "https://localhost:8080/"
        },
        "id": "gyfqltmdf_oY",
        "outputId": "b9d65780-fe1d-44ad-c85e-2987abb3769c"
      },
      "execution_count": 21,
      "outputs": [
        {
          "output_type": "stream",
          "name": "stdout",
          "text": [
            "enter a number6\n",
            "enter a number2\n",
            "2\n"
          ]
        }
      ]
    },
    {
      "cell_type": "code",
      "source": [
        "#Compute the factorial of a given number.\n",
        "n=int(input(\"enter a number \"))\n",
        "factorial=1\n",
        "for i in range(1,n+1):\n",
        "  factorial=factorial*i\n",
        "\n",
        "print(factorial)"
      ],
      "metadata": {
        "colab": {
          "base_uri": "https://localhost:8080/"
        },
        "id": "ri-mECcxgFA8",
        "outputId": "c473a3ab-4006-4d14-d6c0-0860a707c890"
      },
      "execution_count": 22,
      "outputs": [
        {
          "output_type": "stream",
          "name": "stdout",
          "text": [
            "enter a number 8\n",
            "40320\n"
          ]
        }
      ]
    }
  ]
}